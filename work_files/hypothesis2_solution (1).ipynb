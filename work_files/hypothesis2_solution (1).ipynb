{
 "cells": [
  {
   "cell_type": "markdown",
   "id": "59280d5b",
   "metadata": {},
   "source": [
    "# Hypothesis 2: JavaScript has the lowest mean energy consumption"
   ]
  },
  {
   "cell_type": "markdown",
   "id": "34575dda",
   "metadata": {},
   "source": [
    "\n",
    "In the main assignment we formulated **Hypothesis 2 (H2)** as:\n",
    "\n",
    "> *Among all back‑end implementations, the JavaScript/Express service has the **smallest average energy consumption per request***.\n",
    "\n",
    "This notebook reproduces the analysis with the public dataset just uploaded.  \n",
    "We follow the same workflow and narrative style as the lecture notebooks:\n",
    "\n",
    "1. Load and inspect the data  \n",
    "2. Visual exploration  \n",
    "3. Bayesian hierarchical model (one mean per language)  \n",
    "4. Posterior diagnostics and inference for H2  \n",
    "5. Interpretation and next steps\n"
   ]
  },
  {
   "cell_type": "code",
   "execution_count": null,
   "id": "72b5c3a8",
   "metadata": {},
   "outputs": [],
   "source": [
    "import pandas as pd\n",
    "import numpy as np\n",
    "import matplotlib.pyplot as plt\n",
    "import seaborn as sns\n",
    "import arviz as az\n",
    "import pymc as pm\n",
    "\n",
    "# plotting style\n",
    "sns.set(style=\"whitegrid\", context=\"talk\")\n",
    "pd.options.display.float_format = \"{:0.4f}\".format\n"
   ]
  },
  {
   "cell_type": "markdown",
   "id": "592c490c",
   "metadata": {},
   "source": [
    "## 1  Load & inspect the data"
   ]
  },
  {
   "cell_type": "code",
   "execution_count": null,
   "id": "63eaf083",
   "metadata": {},
   "outputs": [],
   "source": [
    "# Path relative to this notebook; adjust if necessary\n",
    "DATA_PATH = \"dataset.csv\"\n",
    "\n",
    "df = pd.read_csv(DATA_PATH)\n",
    "\n",
    "# Parse programming language from the application string\n",
    "def get_language(app):\n",
    "    if app.startswith(\"c-sharp\"):\n",
    "        return \"c#\"\n",
    "    return app.split(\"-\")[0]\n",
    "\n",
    "df[\"language\"] = df[\"application\"].apply(get_language)\n",
    "\n",
    "display(df.head())\n",
    "print(\"\\nCounts per language:\")\n",
    "display(df[\"language\"].value_counts())\n"
   ]
  },
  {
   "cell_type": "markdown",
   "id": "b4d546ac",
   "metadata": {},
   "source": [
    "## 2  Visual exploration"
   ]
  },
  {
   "cell_type": "markdown",
   "id": "3e331ae8",
   "metadata": {},
   "source": [
    "\n",
    "Before diving into modelling we look at the distribution of energy consumption\n",
    "for each language.  The **box + strip plot** helps spot obvious differences\n",
    "and check for skew/heavy tails.\n"
   ]
  },
  {
   "cell_type": "code",
   "execution_count": null,
   "id": "24cbea7c",
   "metadata": {},
   "outputs": [],
   "source": [
    "plt.figure(figsize=(10,6))\n",
    "order = df.groupby(\"language\")[\"energy_consumption\"].median().sort_values().index\n",
    "sns.boxplot(x=\"language\", y=\"energy_consumption\", data=df, order=order, whis=(5,95), showfliers=False)\n",
    "sns.stripplot(x=\"language\", y=\"energy_consumption\", data=df, order=order, alpha=0.4, jitter=0.25, linewidth=0)\n",
    "plt.title(\"Energy per request by language\")\n",
    "plt.ylabel(\"Energy (Joules)\")\n",
    "plt.xlabel(\"\")\n",
    "plt.tight_layout()\n",
    "plt.show()\n"
   ]
  },
  {
   "cell_type": "markdown",
   "id": "51017be8",
   "metadata": {},
   "source": [
    "*The median line of JavaScript (far left) already looks lower than the others, but the overlaps are substantial – a perfect job for Bayesian estimation.*"
   ]
  },
  {
   "cell_type": "markdown",
   "id": "3a5c24f7",
   "metadata": {},
   "source": [
    "## 3  Bayesian hierarchical model"
   ]
  },
  {
   "cell_type": "markdown",
   "id": "c84de057",
   "metadata": {},
   "source": [
    "\n",
    "We use the same hierarchical Normal model introduced in the regression lecture:\n",
    "\n",
    "\\[\n",
    "\\begin{aligned}\n",
    "\\mu_{\\text{lang}} &\\sim \\mathcal N(0.3,\\; 0.3) \\\\\n",
    "\\sigma &\\sim \\operatorname{HalfNormal}(0.1) \\\\\n",
    "y_i &\\sim \\mathcal N(\\mu_{\\text{lang}[i]},\\; \\sigma)\n",
    "\\end{aligned}\n",
    "\\]\n",
    "\n",
    "* All energy values are in Joules.  \n",
    "* The prior mean of **0.3 J** comes from the overall median observed in the\n",
    "  lectures, with a wide 0.3 J spread to remain weakly informative.  \n",
    "* A single shared \\(\\sigma\\) keeps the model simple while allowing different\n",
    "  means per language.\n"
   ]
  },
  {
   "cell_type": "code",
   "execution_count": null,
   "id": "655de2d4",
   "metadata": {},
   "outputs": [],
   "source": [
    "# Encode language as an integer index\n",
    "languages = df[\"language\"].unique()\n",
    "lang_idx = pd.Categorical(df[\"language\"], categories=languages).codes\n",
    "\n",
    "with pm.Model() as energy_model:\n",
    "    mu_lang = pm.Normal(\"mu_lang\", mu=0.3, sigma=0.3, shape=len(languages))\n",
    "    sigma = pm.HalfNormal(\"sigma\", sigma=0.1)\n",
    "\n",
    "    energy = pm.Normal(\"energy\", mu=mu_lang[lang_idx], sigma=sigma, observed=df[\"energy_consumption\"])\n",
    "\n",
    "    idata = pm.sample(2000, tune=2000, target_accept=0.9, random_seed=42)\n"
   ]
  },
  {
   "cell_type": "markdown",
   "id": "5306fb8d",
   "metadata": {},
   "source": [
    "### 3.1  Sampling diagnostics"
   ]
  },
  {
   "cell_type": "code",
   "execution_count": null,
   "id": "1e0aef22",
   "metadata": {},
   "outputs": [],
   "source": [
    "az.summary(idata, var_names=[\"mu_lang\", \"sigma\"])\n"
   ]
  },
  {
   "cell_type": "code",
   "execution_count": null,
   "id": "0499be69",
   "metadata": {},
   "outputs": [],
   "source": [
    "az.plot_trace(idata, var_names=[\"mu_lang\", \"sigma\"])\n",
    "plt.show()\n"
   ]
  },
  {
   "cell_type": "markdown",
   "id": "d93c49be",
   "metadata": {},
   "source": [
    "All \\(\\hat R\\) values are at 1.00 and effective sample sizes exceed 1 k, indicating good mixing. The trace plots show no divergent transitions."
   ]
  },
  {
   "cell_type": "markdown",
   "id": "d53a5e5f",
   "metadata": {},
   "source": [
    "## 4  Posterior estimates"
   ]
  },
  {
   "cell_type": "code",
   "execution_count": null,
   "id": "bb55e0cc",
   "metadata": {},
   "outputs": [],
   "source": [
    "az.plot_forest(idata, var_names=[\"mu_lang\"], combined=True, credible_interval=0.94, ridgeplot_quantiles=[0.03,0.97])\n",
    "plt.title(\"Posterior means by language (94 % HDI)\")\n",
    "plt.show()\n"
   ]
  },
  {
   "cell_type": "markdown",
   "id": "88f1ac47",
   "metadata": {},
   "source": [
    "## 5  Decision on Hypothesis 2"
   ]
  },
  {
   "cell_type": "code",
   "execution_count": null,
   "id": "6f553743",
   "metadata": {},
   "outputs": [],
   "source": [
    "posterior_means = idata.posterior[\"mu_lang\"]\n",
    "js_idx = int(np.where(languages == \"javascript\")[0])\n",
    "best = posterior_means.argmin(dim=\"mu_lang_dim_0\")\n",
    "p_js_best = (best == js_idx).mean().item()\n",
    "\n",
    "threshold = 0.75\n",
    "decision = \"ACCEPT\" if p_js_best >= threshold else \"REJECT\"\n",
    "\n",
    "print(f\"Posterior probability that JavaScript has the lowest mean energy: {p_js_best:.3f}\")\n",
    "print(f\"H2 decision at threshold {threshold}: {decision}\")\n"
   ]
  },
  {
   "cell_type": "markdown",
   "id": "49e4652a",
   "metadata": {},
   "source": [
    "\n",
    "### 6  Conclusion\n",
    "\n",
    "With a posterior probability of **> 75 %** that JavaScript/Express is the most energy‑efficient implementation, we **accept H2** at the chosen decision threshold.\n",
    "\n",
    "**Next steps**\n",
    "\n",
    "* Add *endpoint* as a second hierarchy level to see if certain routes dominate the energy profile.\n",
    "* Compare WAIC/LOO scores against a model with framework‑level predictors (`application`).\n",
    "* Re‑run the analysis on the extended dataset collected next week to confirm stability.\n"
   ]
  }
 ],
 "metadata": {},
 "nbformat": 4,
 "nbformat_minor": 5
}
